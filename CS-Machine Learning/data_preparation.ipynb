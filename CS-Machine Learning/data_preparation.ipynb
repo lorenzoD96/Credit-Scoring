{
 "cells": [
  {
   "cell_type": "code",
   "execution_count": 26,
   "metadata": {},
   "outputs": [],
   "source": [
    "import pandas as pd\n",
    "import numpy as np\n",
    "import matplotlib\n",
    "import matplotlib.pyplot as plt\n",
    "import seaborn as sns\n",
    "import warnings\n",
    "import tensorflow_data_validation as tfdv\n",
    "\n",
    "warnings.filterwarnings(\"ignore\")"
   ]
  },
  {
   "cell_type": "markdown",
   "metadata": {},
   "source": [
    "## Analisi esplorativa dei dati"
   ]
  },
  {
   "cell_type": "code",
   "execution_count": 35,
   "metadata": {},
   "outputs": [],
   "source": [
    "df = pd.read_csv('cs-training-nonull.csv', index_col = 0)"
   ]
  },
  {
   "cell_type": "code",
   "execution_count": 37,
   "metadata": {},
   "outputs": [],
   "source": [
    "stats = tfdv.generate_statistics_from_dataframe(df)"
   ]
  },
  {
   "cell_type": "code",
   "execution_count": 38,
   "metadata": {
    "scrolled": true
   },
   "outputs": [
    {
     "data": {
      "text/html": [
       "<iframe id='facets-iframe' width=\"100%\" height=\"500px\"></iframe>\n",
       "        <script>\n",
       "        facets_iframe = document.getElementById('facets-iframe');\n",
       "        facets_html = '<script src=\"https://cdnjs.cloudflare.com/ajax/libs/webcomponentsjs/1.3.3/webcomponents-lite.js\"><\\/script><link rel=\"import\" href=\"https://raw.githubusercontent.com/PAIR-code/facets/master/facets-dist/facets-jupyter.html\"><facets-overview proto-input=\"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\"></facets-overview>';\n",
       "        facets_iframe.srcdoc = facets_html;\n",
       "         facets_iframe.id = \"\";\n",
       "         setTimeout(() => {\n",
       "           facets_iframe.setAttribute('height', facets_iframe.contentWindow.document.body.offsetHeight + 'px')\n",
       "         }, 1500)\n",
       "         </script>"
      ],
      "text/plain": [
       "<IPython.core.display.HTML object>"
      ]
     },
     "metadata": {},
     "output_type": "display_data"
    }
   ],
   "source": [
    "tfdv.visualize_statistics(stats)"
   ]
  },
  {
   "cell_type": "code",
   "execution_count": 47,
   "metadata": {},
   "outputs": [],
   "source": [
    "schema = tfdv.infer_schema(stats)"
   ]
  },
  {
   "cell_type": "code",
   "execution_count": 48,
   "metadata": {},
   "outputs": [
    {
     "data": {
      "text/html": [
       "<div>\n",
       "<style scoped>\n",
       "    .dataframe tbody tr th:only-of-type {\n",
       "        vertical-align: middle;\n",
       "    }\n",
       "\n",
       "    .dataframe tbody tr th {\n",
       "        vertical-align: top;\n",
       "    }\n",
       "\n",
       "    .dataframe thead th {\n",
       "        text-align: right;\n",
       "    }\n",
       "</style>\n",
       "<table border=\"1\" class=\"dataframe\">\n",
       "  <thead>\n",
       "    <tr style=\"text-align: right;\">\n",
       "      <th></th>\n",
       "      <th>Type</th>\n",
       "      <th>Presence</th>\n",
       "      <th>Valency</th>\n",
       "      <th>Domain</th>\n",
       "    </tr>\n",
       "    <tr>\n",
       "      <th>Feature name</th>\n",
       "      <th></th>\n",
       "      <th></th>\n",
       "      <th></th>\n",
       "      <th></th>\n",
       "    </tr>\n",
       "  </thead>\n",
       "  <tbody>\n",
       "    <tr>\n",
       "      <th>'RevolvingUtilizationOfUnsecuredLines'</th>\n",
       "      <td>FLOAT</td>\n",
       "      <td>required</td>\n",
       "      <td></td>\n",
       "      <td>-</td>\n",
       "    </tr>\n",
       "    <tr>\n",
       "      <th>'age'</th>\n",
       "      <td>INT</td>\n",
       "      <td>required</td>\n",
       "      <td></td>\n",
       "      <td>-</td>\n",
       "    </tr>\n",
       "    <tr>\n",
       "      <th>'NumberOfTime30-59DaysPastDueNotWorse'</th>\n",
       "      <td>INT</td>\n",
       "      <td>required</td>\n",
       "      <td></td>\n",
       "      <td>-</td>\n",
       "    </tr>\n",
       "    <tr>\n",
       "      <th>'DebtRatio'</th>\n",
       "      <td>FLOAT</td>\n",
       "      <td>required</td>\n",
       "      <td></td>\n",
       "      <td>-</td>\n",
       "    </tr>\n",
       "    <tr>\n",
       "      <th>'MonthlyIncome'</th>\n",
       "      <td>FLOAT</td>\n",
       "      <td>required</td>\n",
       "      <td></td>\n",
       "      <td>-</td>\n",
       "    </tr>\n",
       "    <tr>\n",
       "      <th>'NumberOfOpenCreditLinesAndLoans'</th>\n",
       "      <td>INT</td>\n",
       "      <td>required</td>\n",
       "      <td></td>\n",
       "      <td>-</td>\n",
       "    </tr>\n",
       "    <tr>\n",
       "      <th>'NumberOfTimes90DaysLate'</th>\n",
       "      <td>INT</td>\n",
       "      <td>required</td>\n",
       "      <td></td>\n",
       "      <td>-</td>\n",
       "    </tr>\n",
       "    <tr>\n",
       "      <th>'NumberRealEstateLoansOrLines'</th>\n",
       "      <td>INT</td>\n",
       "      <td>required</td>\n",
       "      <td></td>\n",
       "      <td>-</td>\n",
       "    </tr>\n",
       "    <tr>\n",
       "      <th>'NumberOfTime60-89DaysPastDueNotWorse'</th>\n",
       "      <td>INT</td>\n",
       "      <td>required</td>\n",
       "      <td></td>\n",
       "      <td>-</td>\n",
       "    </tr>\n",
       "    <tr>\n",
       "      <th>'NumberOfDependents'</th>\n",
       "      <td>FLOAT</td>\n",
       "      <td>required</td>\n",
       "      <td></td>\n",
       "      <td>-</td>\n",
       "    </tr>\n",
       "    <tr>\n",
       "      <th>'isna_mi'</th>\n",
       "      <td>INT</td>\n",
       "      <td>required</td>\n",
       "      <td></td>\n",
       "      <td>-</td>\n",
       "    </tr>\n",
       "    <tr>\n",
       "      <th>'isna_nod'</th>\n",
       "      <td>INT</td>\n",
       "      <td>required</td>\n",
       "      <td></td>\n",
       "      <td>-</td>\n",
       "    </tr>\n",
       "  </tbody>\n",
       "</table>\n",
       "</div>"
      ],
      "text/plain": [
       "                                         Type  Presence Valency Domain\n",
       "Feature name                                                          \n",
       "'RevolvingUtilizationOfUnsecuredLines'  FLOAT  required          -    \n",
       "'age'                                   INT    required          -    \n",
       "'NumberOfTime30-59DaysPastDueNotWorse'  INT    required          -    \n",
       "'DebtRatio'                             FLOAT  required          -    \n",
       "'MonthlyIncome'                         FLOAT  required          -    \n",
       "'NumberOfOpenCreditLinesAndLoans'       INT    required          -    \n",
       "'NumberOfTimes90DaysLate'               INT    required          -    \n",
       "'NumberRealEstateLoansOrLines'          INT    required          -    \n",
       "'NumberOfTime60-89DaysPastDueNotWorse'  INT    required          -    \n",
       "'NumberOfDependents'                    FLOAT  required          -    \n",
       "'isna_mi'                               INT    required          -    \n",
       "'isna_nod'                              INT    required          -    "
      ]
     },
     "metadata": {},
     "output_type": "display_data"
    }
   ],
   "source": [
    "tfdv.display_schema(schema)"
   ]
  },
  {
   "cell_type": "code",
   "execution_count": 45,
   "metadata": {},
   "outputs": [
    {
     "data": {
      "text/html": [
       "<div>\n",
       "<style scoped>\n",
       "    .dataframe tbody tr th:only-of-type {\n",
       "        vertical-align: middle;\n",
       "    }\n",
       "\n",
       "    .dataframe tbody tr th {\n",
       "        vertical-align: top;\n",
       "    }\n",
       "\n",
       "    .dataframe thead th {\n",
       "        text-align: right;\n",
       "    }\n",
       "</style>\n",
       "<table border=\"1\" class=\"dataframe\">\n",
       "  <thead>\n",
       "    <tr style=\"text-align: right;\">\n",
       "      <th></th>\n",
       "      <th>Anomaly short description</th>\n",
       "      <th>Anomaly long description</th>\n",
       "    </tr>\n",
       "    <tr>\n",
       "      <th>Feature name</th>\n",
       "      <th></th>\n",
       "      <th></th>\n",
       "    </tr>\n",
       "  </thead>\n",
       "  <tbody>\n",
       "    <tr>\n",
       "      <th>'\\'\\''</th>\n",
       "      <td>New column</td>\n",
       "      <td>New column (column in data but not in schema)</td>\n",
       "    </tr>\n",
       "    <tr>\n",
       "      <th>'NumberOfDependents'</th>\n",
       "      <td>Expected data of type: FLOAT but got STRING</td>\n",
       "      <td></td>\n",
       "    </tr>\n",
       "    <tr>\n",
       "      <th>'SeriousDlqin2yrs'</th>\n",
       "      <td>New column</td>\n",
       "      <td>New column (column in data but not in schema)</td>\n",
       "    </tr>\n",
       "    <tr>\n",
       "      <th>'MonthlyIncome'</th>\n",
       "      <td>Expected data of type: FLOAT but got STRING</td>\n",
       "      <td></td>\n",
       "    </tr>\n",
       "    <tr>\n",
       "      <th>'isna_mi'</th>\n",
       "      <td>Column dropped</td>\n",
       "      <td>Column is completely missing</td>\n",
       "    </tr>\n",
       "    <tr>\n",
       "      <th>'isna_nod'</th>\n",
       "      <td>Column dropped</td>\n",
       "      <td>Column is completely missing</td>\n",
       "    </tr>\n",
       "  </tbody>\n",
       "</table>\n",
       "</div>"
      ],
      "text/plain": [
       "                                        Anomaly short description  \\\n",
       "Feature name                                                        \n",
       "'\\'\\''                New column                                    \n",
       "'NumberOfDependents'  Expected data of type: FLOAT but got STRING   \n",
       "'SeriousDlqin2yrs'    New column                                    \n",
       "'MonthlyIncome'       Expected data of type: FLOAT but got STRING   \n",
       "'isna_mi'             Column dropped                                \n",
       "'isna_nod'            Column dropped                                \n",
       "\n",
       "                                           Anomaly long description  \n",
       "Feature name                                                         \n",
       "'\\'\\''                New column (column in data but not in schema)  \n",
       "'NumberOfDependents'                                                 \n",
       "'SeriousDlqin2yrs'    New column (column in data but not in schema)  \n",
       "'MonthlyIncome'                                                      \n",
       "'isna_mi'             Column is completely missing                   \n",
       "'isna_nod'            Column is completely missing                   "
      ]
     },
     "metadata": {},
     "output_type": "display_data"
    }
   ],
   "source": [
    "# Assume that other_path points to another TFRecord file\n",
    "other_stats = tfdv.generate_statistics_from_csv('cs-training.csv')\n",
    "anomalies = tfdv.validate_statistics(statistics=other_stats, schema=schema)\n",
    "tfdv.display_anomalies(anomalies)"
   ]
  },
  {
   "cell_type": "code",
   "execution_count": null,
   "metadata": {},
   "outputs": [],
   "source": [
    "print(\"\\033[1m\"+'% di record appartenenti alla classe 1:'+\"\\033[0m\",100*len(df[df['SeriousDlqin2yrs'] == 1])/len(df),'%')"
   ]
  },
  {
   "cell_type": "code",
   "execution_count": null,
   "metadata": {
    "scrolled": false
   },
   "outputs": [],
   "source": [
    "df.head()"
   ]
  },
  {
   "cell_type": "code",
   "execution_count": null,
   "metadata": {},
   "outputs": [],
   "source": [
    "df.shape"
   ]
  },
  {
   "cell_type": "code",
   "execution_count": null,
   "metadata": {
    "scrolled": true
   },
   "outputs": [],
   "source": [
    "df.info()"
   ]
  },
  {
   "cell_type": "code",
   "execution_count": null,
   "metadata": {
    "scrolled": false
   },
   "outputs": [],
   "source": [
    "summary = df.describe() # analisi sommaria\n",
    "summary"
   ]
  },
  {
   "cell_type": "markdown",
   "metadata": {},
   "source": [
    "###### Cardinalità delle features"
   ]
  },
  {
   "cell_type": "code",
   "execution_count": null,
   "metadata": {
    "scrolled": true
   },
   "outputs": [],
   "source": [
    "for column in df.columns:   \n",
    "    print(column)\n",
    "    print(df[column].nunique())"
   ]
  },
  {
   "cell_type": "markdown",
   "metadata": {},
   "source": [
    "###### Quali colonne hanno valori nulli?"
   ]
  },
  {
   "cell_type": "code",
   "execution_count": null,
   "metadata": {
    "scrolled": true
   },
   "outputs": [],
   "source": [
    "print(\"\\033[1m\"+\"# di valori nulli per feature:\\n\\n\"+\"\\033[0m\")\n",
    "print(df.isnull().sum()) "
   ]
  },
  {
   "cell_type": "code",
   "execution_count": null,
   "metadata": {},
   "outputs": [],
   "source": [
    "print(\"\\033[1m\"+'% righe con valori null in MonthlyIncome:'+\"\\033[0m\",df['MonthlyIncome'].isnull().sum()/len(df))\n",
    "print(\"\\033[1m\"+'% righe con valori null in NumberOfDependents:'+\"\\033[0m\",df['NumberOfDependents'].isnull().sum()/len(df)) "
   ]
  },
  {
   "cell_type": "markdown",
   "metadata": {},
   "source": [
    "### Matrice di Correlazione"
   ]
  },
  {
   "cell_type": "code",
   "execution_count": null,
   "metadata": {
    "scrolled": true
   },
   "outputs": [],
   "source": [
    "fig, ax = plt.subplots(figsize=(8,8))  \n",
    "plt.title(\"Matrice di Correlazione\", fontsize =20)\n",
    "#ax.set_title('Matrice di Correlazione')\n",
    "sns.heatmap(df.corr(method ='pearson'), linewidths=0.01,annot = True, square=True,linecolor='black',vmin = -1, vmax = 1, ax=ax, cmap = \"RdBu\")"
   ]
  },
  {
   "cell_type": "markdown",
   "metadata": {},
   "source": [
    "Non sembra esserci grossa correlazione fra le variabili, eccezion fatta per le 3 colonne relative al numero dei pagamenti in ritardo, che presentano fortissima correlazione."
   ]
  },
  {
   "cell_type": "markdown",
   "metadata": {},
   "source": [
    "### Boxplot e Distplot"
   ]
  },
  {
   "cell_type": "code",
   "execution_count": null,
   "metadata": {},
   "outputs": [],
   "source": [
    "def plotchart(col):\n",
    "    fix, (ax1,ax2) = plt.subplots(1,2,figsize=(20,5))\n",
    "    #fig.subplots_adjust(hspace=20)\n",
    "    sns.boxplot(col, orient = 'v', ax=ax1)\n",
    "    ax1.set_ylabel=col.name\n",
    "    ax1.set_title('Boxplot di {}'.format(col.name))\n",
    "    sns.distplot(col,ax=ax2)\n",
    "    matplotlib.pyplot.subplots_adjust(wspace=.5)\n",
    "    ax2.set_title('Distribuzione di {}'.format(col.name))"
   ]
  },
  {
   "cell_type": "code",
   "execution_count": null,
   "metadata": {},
   "outputs": [],
   "source": [
    "df.apply(plotchart, axis=0)"
   ]
  },
  {
   "cell_type": "code",
   "execution_count": null,
   "metadata": {
    "scrolled": true
   },
   "outputs": [],
   "source": [
    "df['MonthlyIncome'].value_counts() # come è distribuita la variabile 'MonthlyIncome'?"
   ]
  },
  {
   "cell_type": "markdown",
   "metadata": {},
   "source": [
    "Vediamo che 'MonthlyIncome' presenta un numero rilevante di record uguali a 0"
   ]
  },
  {
   "cell_type": "markdown",
   "metadata": {},
   "source": [
    "### Analisi outliers"
   ]
  },
  {
   "cell_type": "code",
   "execution_count": null,
   "metadata": {},
   "outputs": [],
   "source": [
    "def findoutliers(column,k):\n",
    "    outliers = []\n",
    "    Q1 = column.quantile(.25)\n",
    "    Q3 = column.quantile(.75)\n",
    "    IQR = Q3-Q1\n",
    "    lower_lim = Q1-(k*IQR)  \n",
    "    upper_lim = Q3+(k*IQR)  \n",
    "    for x in column:\n",
    "        if x<lower_lim or x>upper_lim:\n",
    "            outliers.append(x)\n",
    "    return len(outliers)"
   ]
  },
  {
   "cell_type": "code",
   "execution_count": null,
   "metadata": {
    "scrolled": true
   },
   "outputs": [],
   "source": [
    "#args={k:1.5}\n",
    "outliers_count = df.apply(findoutliers, args=(3,), axis=0) ## k=3.0\n",
    "np.array(outliers_count)"
   ]
  },
  {
   "cell_type": "code",
   "execution_count": null,
   "metadata": {},
   "outputs": [],
   "source": [
    "summary_withOutliers = summary.append(pd.Series(outliers_count, name='outliers_count'))\n",
    "summary_withOutliers"
   ]
  },
  {
   "cell_type": "markdown",
   "metadata": {},
   "source": [
    "### Considerazioni\n",
    "Il dataset è notevolmente sbilanciato (94%-6%), perciò sarà necessario una procedura di bilanciamento durante il training.\n",
    "\n",
    "Le due colonne con valori null sono molto diverse. Mentre per la colonna \"NumberOfDependents\" si potrebbe tranquillamente optare per l'eliminazione per righe (poco meno del 3% dei record), lo stesso non può essere fatto per la colonna \"MonthlyIncome\" (quasi 20% di valori null), bisogna cercare un approccio alternativo; l'approccio alternativo difficilmente potrà essere quello di sostituire i valori null con la media della feature, poichè essa presenta una deviazione standard addirttura più elevata della media. Inoltre, la colonna \"MonthlyIncome\" presenta un numero elevato di valori uguali a 0.0; ciò va analizzato ulteriormente. \n",
    "'MonthlyIncome' non sembra essere nemmeno particolarmente correlata con le altre features, perciò anche una procedura di interpolazione potrebbe essere complicata da applicare.\n",
    "\n"
   ]
  },
  {
   "cell_type": "markdown",
   "metadata": {},
   "source": [
    "##### Preparazione del dataset per il training"
   ]
  },
  {
   "cell_type": "code",
   "execution_count": null,
   "metadata": {},
   "outputs": [],
   "source": [
    "prova = df.copy()"
   ]
  },
  {
   "cell_type": "markdown",
   "metadata": {},
   "source": [
    "Bisogna eliminare tutti gli outlier in 'DebtRatio', perchè presentano grosse incongruenze relativamente a 'MonthlyIncome'."
   ]
  },
  {
   "cell_type": "code",
   "execution_count": null,
   "metadata": {},
   "outputs": [],
   "source": [
    "query = prova[(prova['DebtRatio'] > 3489.025) & (prova['SeriousDlqin2yrs'] == prova['MonthlyIncome'])]\n",
    "prova = prova.drop(prova[(prova['DebtRatio'] > 3489.025)].index) \n",
    "#prova = prova.drop(query.index)                                                "
   ]
  },
  {
   "cell_type": "markdown",
   "metadata": {},
   "source": [
    "Rimpiazziamo i valori 96 e 98 nelle 3 colonne (incongruenti con la loro cardinalità) con valori ricalibrati verso il basso, in modo da attenuare l'effetto di questi record"
   ]
  },
  {
   "cell_type": "code",
   "execution_count": null,
   "metadata": {},
   "outputs": [],
   "source": [
    "prova['NumberOfTimes90DaysLate'] = prova['NumberOfTimes90DaysLate'].replace(to_replace=[96,98],value=[20,22])\n",
    "prova['NumberOfTime60-89DaysPastDueNotWorse'] = prova['NumberOfTime60-89DaysPastDueNotWorse'].replace(to_replace=[96,98],value=[20,22])\n",
    "prova['NumberOfTime30-59DaysPastDueNotWorse'] = prova['NumberOfTime30-59DaysPastDueNotWorse'].replace(to_replace=[96,98],value=[20,22])\n",
    "prova"
   ]
  },
  {
   "cell_type": "markdown",
   "metadata": {},
   "source": [
    "La colonna RUUL rappresenta il tasso di denaro dovuto rispetto al limite di credito; sembra essere affetta da bias, poichè dovrebbe essere in teoria direttamente correlata alla probabilità di andare in default, ma al contrario se analizziamo la distribuzione del target negli outliers, i record che presentano default non sono distribuiti come nella fascia di RUUL che va da 1 a 10, quando in teoria dovrebberp essere ancor maggiori in proporzione."
   ]
  },
  {
   "cell_type": "code",
   "execution_count": null,
   "metadata": {},
   "outputs": [],
   "source": [
    "prova = prova.drop(prova[(prova['RevolvingUtilizationOfUnsecuredLines'] > 10)].index)                            \n",
    "prova"
   ]
  },
  {
   "cell_type": "code",
   "execution_count": null,
   "metadata": {},
   "outputs": [],
   "source": [
    "prova.isnull().sum()"
   ]
  },
  {
   "cell_type": "markdown",
   "metadata": {},
   "source": [
    "Dobbiamo sostituire i valori null nelle colonne che presentano tali valori. \n",
    "\n",
    "Per quanto riguarda 'MonthlyIncome' optiamo per la mediana, in quanto la media è influenzata dai record relativi a redditi molto elevati.\n",
    "\n",
    "Invece, per 'NumberOfDependents', optiamo per il valore di moda (ovvero 0), poichè è ragionevole pensare che i record che presentano valori null rappresentano persone, che perciò non hanno alcun dipendente a carico, o comunque aziende con 0 dipendenti."
   ]
  },
  {
   "cell_type": "code",
   "execution_count": null,
   "metadata": {},
   "outputs": [],
   "source": [
    "median = df['MonthlyIncome'].median()\n",
    "mode = df['NumberOfDependents'].mode()\n",
    "\n",
    "condition = (prova['MonthlyIncome'].isnull())\n",
    "\n",
    "prova['isna_mi'] = 0\n",
    "prova.loc[condition, 'isna_mi'] = 1\n",
    "prova.loc[condition, 'MonthlyIncome'] = median\n",
    "\n",
    "condition = (prova['NumberOfDependents'].isnull())\n",
    "\n",
    "prova['isna_nod'] = 0\n",
    "\n",
    "prova.loc[condition, 'isna_nod'] = 1\n",
    "prova['NumberOfDependents'] = prova['NumberOfDependents'].fillna(value=int(mode), axis=0)"
   ]
  },
  {
   "cell_type": "code",
   "execution_count": null,
   "metadata": {},
   "outputs": [],
   "source": [
    "prova.to_csv('cs-training-nonull.csv',index = False)"
   ]
  }
 ],
 "metadata": {
  "kernelspec": {
   "display_name": "Python 3",
   "language": "python",
   "name": "python3"
  },
  "language_info": {
   "codemirror_mode": {
    "name": "ipython",
    "version": 3
   },
   "file_extension": ".py",
   "mimetype": "text/x-python",
   "name": "python",
   "nbconvert_exporter": "python",
   "pygments_lexer": "ipython3",
   "version": "3.8.5"
  }
 },
 "nbformat": 4,
 "nbformat_minor": 4
}
